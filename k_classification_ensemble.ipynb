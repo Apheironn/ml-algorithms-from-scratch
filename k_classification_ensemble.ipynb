{
 "cells": [
  {
   "cell_type": "code",
   "execution_count": 3,
   "id": "f4239d37",
   "metadata": {},
   "outputs": [],
   "source": [
    "import pandas as pd\n",
    "import numpy as np\n",
    "from matplotlib import pyplot as plt\n",
    "from sklearn.metrics import accuracy_score,precision_score, recall_score, f1_score, confusion_matrix, classification_report\n",
    "import seaborn as sns"
   ]
  },
  {
   "cell_type": "code",
   "execution_count": 4,
   "id": "938f5bed",
   "metadata": {},
   "outputs": [],
   "source": [
    "df = pd.read_csv(\"titanic3.csv\")"
   ]
  },
  {
   "cell_type": "code",
   "execution_count": 5,
   "id": "3cc4bb82",
   "metadata": {},
   "outputs": [
    {
     "name": "stdout",
     "output_type": "stream",
     "text": [
      "Training set size: 666\n",
      "Testing set size: 223\n"
     ]
    }
   ],
   "source": [
    "y=df.Survived\n",
    "X=df.drop(columns=['PassengerId','Survived',\"Age\",\"Fare\"])\n",
    "\n",
    "train_percentage = 0.75\n",
    "train_size = int(train_percentage * len(X))\n",
    "X_train, y_train = X.iloc[:train_size], y.iloc[:train_size]\n",
    "X_test, y_test = X.iloc[train_size:], y.iloc[train_size:]\n",
    "print(\"Training set size:\", len(X_train))\n",
    "print(\"Testing set size:\", len(X_test))"
   ]
  },
  {
   "cell_type": "code",
   "execution_count": null,
   "id": "0110f871",
   "metadata": {},
   "outputs": [],
   "source": []
  },
  {
   "cell_type": "code",
   "execution_count": null,
   "id": "feff2893",
   "metadata": {},
   "outputs": [],
   "source": []
  },
  {
   "cell_type": "code",
   "execution_count": 6,
   "id": "f3f7d094",
   "metadata": {},
   "outputs": [],
   "source": [
    "def print_scores(y_test,predictions_test):\n",
    "\n",
    "    accuracy = accuracy_score(y_test, predictions_test)\n",
    "    precision = precision_score(y_test, predictions_test)\n",
    "    recall = recall_score(y_test, predictions_test)\n",
    "    f1 = f1_score(y_test, predictions_test)\n",
    "\n",
    "    accuracy = round(accuracy, 2)\n",
    "    precision = round(precision, 2)\n",
    "    recall = round(recall, 2)\n",
    "    f1 = round(f1, 2)\n",
    "\n",
    "    print(\"Accuracy:\", accuracy)\n",
    "    print(\"Precision:\", precision)\n",
    "    print(\"Recall:\", recall)\n",
    "    print(\"F1 Score:\", f1)\n",
    "\n",
    "def Confusion_matrix(y_test,predictions_test):\n",
    "    \n",
    "\n",
    "    conf_matrix = confusion_matrix(y_test, predictions_test)\n",
    "    print(\"Confusion Matrix:\\n\", conf_matrix)\n",
    "    \n",
    "    sns.heatmap(conf_matrix,annot=True,fmt='d',cmap='Blues')\n",
    "    plt.title('Confusion Matrix')\n",
    "    plt.xlabel('Predicted Labels')\n",
    "    plt.ylabel('True Labels')\n",
    "    plt.show()"
   ]
  },
  {
   "cell_type": "code",
   "execution_count": 7,
   "id": "57cb6852",
   "metadata": {},
   "outputs": [],
   "source": [
    "import numpy as np\n",
    "\n",
    "def calculate_distances(X_train, test_point):\n",
    "    numeric_columns = X_train.select_dtypes(include=[np.number]).columns\n",
    "    distances = [np.linalg.norm(X_train[numeric_columns].iloc[i].values - test_point) for i in range(len(X_train))]\n",
    "    return distances\n",
    "\n",
    "def calculate_distances_vectorized(X_train, test_point):\n",
    "    numeric_columns = X_train.select_dtypes(include=[np.number])\n",
    "    distances = np.linalg.norm(numeric_columns.values - test_point, axis=1)\n",
    "    return distances\n",
    "\n",
    "\n",
    "def sort_neighbors(distances, y_train):\n",
    "    sorted_neighbors = sorted(zip(distances, y_train), key=lambda x: x[0])\n",
    "    return sorted_neighbors\n",
    "\n",
    "\n",
    "def select_k_neighbors(sorted_neighbors, k):\n",
    "    k_nearest_neighbors = [neighbor[1] for neighbor in sorted_neighbors[:k]]\n",
    "    return k_nearest_neighbors\n",
    "\n",
    "def majority_vote(k_nearest_neighbors):\n",
    "    unique_labels, counts = np.unique(k_nearest_neighbors, return_counts=True)\n",
    "    majority_label = unique_labels[np.argmax(counts)]\n",
    "    return majority_label\n",
    "\n",
    "def KNN_predict(X_train, y_train, X_test, k):\n",
    "    predictions = []\n",
    "    for test_point in X_test.values:\n",
    "\n",
    "        distances = calculate_distances_vectorized(X_train, test_point)\n",
    "\n",
    "        sorted_neighbors = sort_neighbors(distances, y_train.values)\n",
    "        \n",
    "        k_nearest_neighbors = select_k_neighbors(sorted_neighbors, k)\n",
    "        \n",
    "        predicted_label = majority_vote(k_nearest_neighbors)\n",
    "        \n",
    "        predictions.append(predicted_label)\n",
    "        \n",
    "    return predictions"
   ]
  },
  {
   "cell_type": "code",
   "execution_count": 10,
   "id": "6a445a71",
   "metadata": {},
   "outputs": [],
   "source": [
    "def split_data(X,y,number):\n",
    "    perc = 1/number \n",
    "    Xs = [] \n",
    "    ys = []\n",
    "    size = len(X) \n",
    "    for i in range(number): \n",
    "        start = int(i*perc*size) \n",
    "        end = int((i+1)*perc*size) \n",
    "        Xs.append(X[start:end])\n",
    "        ys.append(y[start:end])\n",
    "    return Xs, ys \n",
    "\n",
    "\n",
    "def train_test_split(Xs,ys,percentage=0.75):\n",
    "    X_train = [] \n",
    "    X_test = [] \n",
    "    y_train = [] \n",
    "    y_test = []\n",
    "    for i in range(len(Xs)): \n",
    "        train_size = int(percentage* len(Xs[i]))\n",
    "        X_train.append(Xs[i][:train_size]) \n",
    "        X_test.append(Xs[i][train_size:])\n",
    "        y_train.append(ys[i][:train_size])\n",
    "        y_test.append(ys[i][train_size:]) \n",
    "    return X_train, X_test, y_train, y_test\n",
    "\n",
    "def ensemble_knn(X_train, X_test, y_train, y_test,k):\n",
    "    predictions = []\n",
    "    for i in range(len(X_test)):\n",
    "        pred = KNN_predict(X_train[i], y_train[i], X_test[0], k)\n",
    "        predictions.append(pred) \n",
    "    return predictions\n",
    "\n",
    "def majority_voting(predictions):\n",
    "    final_predictions = []\n",
    "    for i in range(len(predictions[0])):\n",
    "        same_index = [] \n",
    "        for pred in predictions:\n",
    "            same_index.append(pred[i]) \n",
    "        unique_labels, counts = np.unique(same_index, return_counts=True) \n",
    "        majority_label = unique_labels[np.argmax(counts)] \n",
    "        final_predictions.append(majority_label)\n",
    "    return final_predictions \n"
   ]
  },
  {
   "cell_type": "code",
   "execution_count": 11,
   "id": "cbfb9f95",
   "metadata": {},
   "outputs": [],
   "source": [
    "Xs,ys= split_data(X,y,3)\n",
    "\n",
    "X_train, X_test, y_train, y_test = train_test_split(Xs,ys)"
   ]
  },
  {
   "cell_type": "code",
   "execution_count": 12,
   "id": "acb73a5f",
   "metadata": {
    "scrolled": true
   },
   "outputs": [
    {
     "name": "stdout",
     "output_type": "stream",
     "text": [
      "K: 1    Accuracy: 0.7567567567567568\n",
      "K: 2    Accuracy: 0.7162162162162162\n",
      "K: 3    Accuracy: 0.7567567567567568\n",
      "K: 4    Accuracy: 0.7567567567567568\n",
      "K: 5    Accuracy: 0.7702702702702703\n",
      "K: 6    Accuracy: 0.7702702702702703\n",
      "K: 7    Accuracy: 0.7972972972972973\n",
      "K: 8    Accuracy: 0.7972972972972973\n",
      "K: 9    Accuracy: 0.7972972972972973\n",
      "K: 10    Accuracy: 0.7972972972972973\n",
      "K: 11    Accuracy: 0.7837837837837838\n",
      "K: 12    Accuracy: 0.7837837837837838\n",
      "K: 13    Accuracy: 0.7837837837837838\n",
      "K: 14    Accuracy: 0.7837837837837838\n",
      "K: 15    Accuracy: 0.7972972972972973\n",
      "K: 16    Accuracy: 0.7972972972972973\n",
      "K: 17    Accuracy: 0.8108108108108109\n",
      "K: 18    Accuracy: 0.8108108108108109\n",
      "K: 19    Accuracy: 0.8108108108108109\n",
      "K: 20    Accuracy: 0.8108108108108109\n",
      "K: 21    Accuracy: 0.8243243243243243\n",
      "K: 22    Accuracy: 0.7972972972972973\n",
      "K: 23    Accuracy: 0.7972972972972973\n",
      "K: 24    Accuracy: 0.7972972972972973\n",
      "K: 25    Accuracy: 0.7972972972972973\n",
      "K: 26    Accuracy: 0.7972972972972973\n",
      "K: 27    Accuracy: 0.7837837837837838\n",
      "K: 28    Accuracy: 0.7837837837837838\n",
      "K: 29    Accuracy: 0.7837837837837838\n",
      "-------------------------\n",
      "BEST K = 21  ACCURACY : 0.8243243243243243\n"
     ]
    }
   ],
   "source": [
    "from sklearn.metrics import accuracy_score\n",
    "\n",
    "k_values = range(1, 30)\n",
    "accuracies = []\n",
    "\n",
    "for k in k_values:\n",
    "    predictions = ensemble_knn(X_train, X_test, y_train, y_test,k=k)\n",
    "    \n",
    "    final_pred= majority_voting(predictions)\n",
    "    \n",
    "    accuracy = accuracy_score(y_test[0], final_pred)\n",
    "    print(f\"K: {k}    Accuracy: {accuracy}\")\n",
    "    accuracies.append(accuracy)\n",
    "\n",
    "sorted_accuracies = sorted(zip(k_values, accuracies), key=lambda x: x[1], reverse=True)\n",
    "\n",
    "accuracies_df = pd.DataFrame(sorted_accuracies, columns=['K_value', 'Accuracy'])\n",
    "best_k = accuracies_df.K_value[0]\n",
    "print(\"-------------------------\")\n",
    "print(f\"BEST K = {best_k}  ACCURACY : {accuracies_df.Accuracy[0]}\")"
   ]
  },
  {
   "cell_type": "code",
   "execution_count": 9,
   "id": "ee80dc67",
   "metadata": {},
   "outputs": [],
   "source": [
    "\n",
    "predictions = ensemble_knn(X_train, X_test, y_train, y_test,k=3)\n",
    "\n",
    "final_pred= majority_voting(predictions)"
   ]
  },
  {
   "cell_type": "code",
   "execution_count": 10,
   "id": "ae0ca62b",
   "metadata": {},
   "outputs": [
    {
     "name": "stdout",
     "output_type": "stream",
     "text": [
      "Confusion Matrix:\n",
      " [[45  1]\n",
      " [12 16]]\n"
     ]
    },
    {
     "data": {
      "image/png": "[encoded data removed]",
      "text/plain": [
       "<Figure size 640x480 with 2 Axes>"
      ]
     },
     "metadata": {},
     "output_type": "display_data"
    },
    {
     "name": "stdout",
     "output_type": "stream",
     "text": [
      "Accuracy: 0.82\n",
      "Precision: 0.94\n",
      "Recall: 0.57\n",
      "F1 Score: 0.71\n"
     ]
    }
   ],
   "source": [
    "predictions = ensemble_knn(X_train, X_test, y_train, y_test,k=best_k)\n",
    "\n",
    "final_pred= majority_voting(predictions)\n",
    "\n",
    "Confusion_matrix(y_test[0],final_pred)\n",
    "print_scores(y_test[0],final_pred)"
   ]
  },
  {
   "cell_type": "markdown",
   "id": "e0a7f71f",
   "metadata": {},
   "source": [
    "# TYPE - 2 ERROR (FN)"
   ]
  },
  {
   "cell_type": "code",
   "execution_count": null,
   "id": "d98714fa",
   "metadata": {},
   "outputs": [],
   "source": []
  },
  {
   "cell_type": "code",
   "execution_count": null,
   "id": "a91aea60",
   "metadata": {},
   "outputs": [],
   "source": []
  },
  {
   "cell_type": "code",
   "execution_count": 11,
   "id": "c9afe16a",
   "metadata": {},
   "outputs": [
    {
     "name": "stdout",
     "output_type": "stream",
     "text": [
      "Training set size: 666\n",
      "Testing set size: 223\n"
     ]
    }
   ],
   "source": [
    "y=df.Survived\n",
    "X=df.drop(columns=['PassengerId','Survived',\"Age\",\"Fare\"])\n",
    "\n",
    "train_percentage = 0.75\n",
    "train_size = int(train_percentage * len(X))\n",
    "X_train, y_train = X.iloc[:train_size], y.iloc[:train_size]\n",
    "X_test, y_test = X.iloc[train_size:], y.iloc[train_size:]\n",
    "print(\"Training set size:\", len(X_train))\n",
    "print(\"Testing set size:\", len(X_test))"
   ]
  },
  {
   "cell_type": "code",
   "execution_count": 12,
   "id": "3f25054a",
   "metadata": {},
   "outputs": [],
   "source": [
    "from sklearn.ensemble import VotingClassifier\n",
    "from sklearn.neighbors import KNeighborsClassifier\n",
    "\n",
    "knn = KNeighborsClassifier(n_neighbors=best_k)\n",
    "\n",
    "voting = VotingClassifier(estimators=[(\"knn\", knn)], voting=\"hard\")\n",
    "\n",
    "voting.fit(X_train, y_train)\n",
    "\n",
    "predictions = voting.predict(X_test)\n"
   ]
  },
  {
   "cell_type": "code",
   "execution_count": 13,
   "id": "41d4fca5",
   "metadata": {
    "scrolled": false
   },
   "outputs": [
    {
     "name": "stdout",
     "output_type": "stream",
     "text": [
      "Confusion Matrix:\n",
      " [[123  19]\n",
      " [ 23  58]]\n"
     ]
    },
    {
     "data": {
      "image/png": "[encoded data removed]",
      "text/plain": [
       "<Figure size 640x480 with 2 Axes>"
      ]
     },
     "metadata": {},
     "output_type": "display_data"
    },
    {
     "name": "stdout",
     "output_type": "stream",
     "text": [
      "Accuracy: 0.81\n",
      "Precision: 0.75\n",
      "Recall: 0.72\n",
      "F1 Score: 0.73\n"
     ]
    }
   ],
   "source": [
    "Confusion_matrix(y_test,predictions)\n",
    "print_scores(y_test,predictions)"
   ]
  },
  {
   "attachments": {
    "image.png": {
     "image/png": "[encoded data removed]"
    }
   },
   "cell_type": "markdown",
   "id": "2f8b4884",
   "metadata": {},
   "source": [
    "![image.png](attachment:image.png)"
   ]
  }
 ],
 "metadata": {
  "kernelspec": {
   "display_name": "Python 3 (ipykernel)",
   "language": "python",
   "name": "python3"
  },
  "language_info": {
   "codemirror_mode": {
    "name": "ipython",
    "version": 3
   },
   "file_extension": ".py",
   "mimetype": "text/x-python",
   "name": "python",
   "nbconvert_exporter": "python",
   "pygments_lexer": "ipython3",
   "version": "3.11.5"
  }
 },
 "nbformat": 4,
 "nbformat_minor": 5
}
